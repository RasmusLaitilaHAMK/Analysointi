{
 "cells": [
  {
   "cell_type": "code",
   "execution_count": 47,
   "metadata": {},
   "outputs": [
    {
     "name": "stdout",
     "output_type": "stream",
     "text": [
      "chair\n",
      "table\n"
     ]
    }
   ],
   "source": [
    "furniture = [\"chair\", \"table\", \"stool\", \"cabinet\", \"mattress\", \"shelf\", \"Sofa\"]\n",
    "print (furniture[0])\n",
    "print (furniture[1])"
   ]
  },
  {
   "cell_type": "code",
   "execution_count": 48,
   "metadata": {},
   "outputs": [
    {
     "name": "stdout",
     "output_type": "stream",
     "text": [
      "sofa is in the list\n"
     ]
    }
   ],
   "source": [
    "furniture = [\"chair\", \"table\", \"stool\", \"cabinet\", \"mattress\", \"shelf\", \"sofa\"]\n",
    "s = \"sofa\"\n",
    "if s in furniture:\n",
    "    print(s, \"is in the list\")\n",
    "else:\n",
    "    print(s, \"not in the list\")"
   ]
  },
  {
   "cell_type": "code",
   "execution_count": 49,
   "metadata": {},
   "outputs": [
    {
     "name": "stdout",
     "output_type": "stream",
     "text": [
      "[4, 2, 1, 5, 1]\n",
      "13\n"
     ]
    }
   ],
   "source": [
    "import random\n",
    "thrownDiceNumbers=[]\n",
    "for i in range(0, 5):\n",
    "    thrownDiceNumbers.append(random.randint(1,6))\n",
    "print (thrownDiceNumbers)\n",
    "a=0\n",
    "for i in range(0, 5):\n",
    "    a=a+thrownDiceNumbers[i]\n",
    "print(a)\n"
   ]
  },
  {
   "cell_type": "code",
   "execution_count": 50,
   "metadata": {},
   "outputs": [
    {
     "name": "stdout",
     "output_type": "stream",
     "text": [
      "[6, 4, 8, 9]\n"
     ]
    }
   ],
   "source": [
    "import random\n",
    "thrownDiceNumbers=[]\n",
    "for i in range(0, 5):\n",
    "    r=random.randint(1, 20)\n",
    "    if r not in thrownDiceNumbers:\n",
    "        thrownDiceNumbers.append(r)\n",
    "print (thrownDiceNumbers)\n"
   ]
  }
 ],
 "metadata": {
  "kernelspec": {
   "display_name": "Python 3",
   "language": "python",
   "name": "python3"
  },
  "language_info": {
   "codemirror_mode": {
    "name": "ipython",
    "version": 3
   },
   "file_extension": ".py",
   "mimetype": "text/x-python",
   "name": "python",
   "nbconvert_exporter": "python",
   "pygments_lexer": "ipython3",
   "version": "3.12.0"
  }
 },
 "nbformat": 4,
 "nbformat_minor": 2
}
