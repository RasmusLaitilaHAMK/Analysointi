{
 "cells": [
  {
   "cell_type": "code",
   "execution_count": 6,
   "metadata": {},
   "outputs": [
    {
     "ename": "SyntaxError",
     "evalue": "invalid syntax. Perhaps you forgot a comma? (792926329.py, line 3)",
     "output_type": "error",
     "traceback": [
      "\u001b[1;36m  Cell \u001b[1;32mIn[6], line 3\u001b[1;36m\u001b[0m\n\u001b[1;33m    print (furniture[0 1])\u001b[0m\n\u001b[1;37m                     ^\u001b[0m\n\u001b[1;31mSyntaxError\u001b[0m\u001b[1;31m:\u001b[0m invalid syntax. Perhaps you forgot a comma?\n"
     ]
    }
   ],
   "source": [
    "furniture = [\"chair\", \"table\", \"stool\", \"cabinet\", \"mattress\", \"shelf\", \"Sofa\"]\n",
    "print (furniture[0])\n",
    "print (furniture[1])"
   ]
  },
  {
   "cell_type": "code",
   "execution_count": 10,
   "metadata": {},
   "outputs": [
    {
     "name": "stdout",
     "output_type": "stream",
     "text": [
      "sofa is in the list\n"
     ]
    }
   ],
   "source": [
    "furniture = [\"chair\", \"table\", \"stool\", \"cabinet\", \"mattress\", \"shelf\", \"sofa\"]\n",
    "s = \"sofa\"\n",
    "if s in furniture:\n",
    "    print(s, \"is in the list\")\n",
    "else:\n",
    "    print(s, \"not in the list\")"
   ]
  },
  {
   "cell_type": "code",
   "execution_count": 38,
   "metadata": {},
   "outputs": [
    {
     "name": "stdout",
     "output_type": "stream",
     "text": [
      "[4, 3, 1, 2, 2]\n",
      "12\n"
     ]
    }
   ],
   "source": [
    "import random\n",
    "thrownDiceNumbers=[]\n",
    "for i in range(0, 5):\n",
    "    thrownDiceNumbers.append(random.randint(1,6))\n",
    "print (thrownDiceNumbers)\n",
    "a=0\n",
    "for i in range(0, 5):\n",
    "    a=a+thrownDiceNumbers[i]\n",
    "print(a)\n"
   ]
  },
  {
   "cell_type": "code",
   "execution_count": 46,
   "metadata": {},
   "outputs": [
    {
     "name": "stdout",
     "output_type": "stream",
     "text": [
      "[20, 14, 3, 1]\n"
     ]
    }
   ],
   "source": [
    "import random\n",
    "thrownDiceNumbers=[]\n",
    "for i in range(0, 5):\n",
    "    r=random.randint(1, 20)\n",
    "    if r not in thrownDiceNumbers:\n",
    "        thrownDiceNumbers.append(r)\n",
    "print (thrownDiceNumbers)\n"
   ]
  }
 ],
 "metadata": {
  "kernelspec": {
   "display_name": "Python 3",
   "language": "python",
   "name": "python3"
  },
  "language_info": {
   "codemirror_mode": {
    "name": "ipython",
    "version": 3
   },
   "file_extension": ".py",
   "mimetype": "text/x-python",
   "name": "python",
   "nbconvert_exporter": "python",
   "pygments_lexer": "ipython3",
   "version": "3.12.0"
  }
 },
 "nbformat": 4,
 "nbformat_minor": 2
}
