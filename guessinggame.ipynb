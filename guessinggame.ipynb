{
 "cells": [
  {
   "cell_type": "code",
   "execution_count": 16,
   "metadata": {},
   "outputs": [
    {
     "name": "stdout",
     "output_type": "stream",
     "text": [
      "Nuh uh\n",
      "The  1 . letter is  p\n",
      "Nuh uh\n",
      "The  2 . letter is  e\n",
      "Congratulations you were correct\n",
      "You tried  3  times\n"
     ]
    }
   ],
   "source": [
    "import random\n",
    "namelist=\"peter\"\n",
    "jatka=\"y\"\n",
    "attempt=0\n",
    "while jatka==\"y\":\n",
    "    guess = input(\"Try guessing the name\")\n",
    "    if guess == namelist:\n",
    "        print(\"Congratulations you were correct\")\n",
    "        break\n",
    "    else:\n",
    "        print(\"Nuh uh\")\n",
    "        print(\"The \", attempt+1, \". letter is \", namelist[attempt])\n",
    "    attempt= attempt+1\n",
    "    jatka=input(\"Do you want to try again? y/n\")\n",
    "print (\"You tried \", attempt+1, \" times\")\n"
   ]
  }
 ],
 "metadata": {
  "kernelspec": {
   "display_name": "Python 3",
   "language": "python",
   "name": "python3"
  },
  "language_info": {
   "codemirror_mode": {
    "name": "ipython",
    "version": 3
   },
   "file_extension": ".py",
   "mimetype": "text/x-python",
   "name": "python",
   "nbconvert_exporter": "python",
   "pygments_lexer": "ipython3",
   "version": "3.12.0"
  }
 },
 "nbformat": 4,
 "nbformat_minor": 2
}
