{
 "cells": [
  {
   "cell_type": "code",
   "execution_count": 12,
   "metadata": {},
   "outputs": [
    {
     "name": "stdout",
     "output_type": "stream",
     "text": [
      "Congratulations you were correct\n",
      "You completed it on your  1 . attempt\n"
     ]
    }
   ],
   "source": [
    "import random\n",
    "name=\"Peter\"\n",
    "jatka=\"y\"\n",
    "attempt=0\n",
    "while jatka==\"y\":\n",
    "    guess = input(\"Try guessing the name\")\n",
    "    guess = guess.capitalize()\n",
    "    if guess == name:\n",
    "        print(\"Congratulations you were correct\")\n",
    "        break\n",
    "    else:\n",
    "        print(\"Nuh uh\")\n",
    "        print(\"The \", attempt+1, \". letter is \", name[attempt])\n",
    "    attempt = attempt+1\n",
    "    jatka=input(\"Do you want to try again? y/n\")\n",
    "print (\"You completed it on your \", attempt+1, \". attempt\")\n"
   ]
  }
 ],
 "metadata": {
  "kernelspec": {
   "display_name": "Python 3",
   "language": "python",
   "name": "python3"
  },
  "language_info": {
   "codemirror_mode": {
    "name": "ipython",
    "version": 3
   },
   "file_extension": ".py",
   "mimetype": "text/x-python",
   "name": "python",
   "nbconvert_exporter": "python",
   "pygments_lexer": "ipython3",
   "version": "3.12.0"
  }
 },
 "nbformat": 4,
 "nbformat_minor": 2
}
