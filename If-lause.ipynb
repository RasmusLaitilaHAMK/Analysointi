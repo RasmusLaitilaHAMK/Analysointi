{
 "cells": [
  {
   "cell_type": "code",
   "execution_count": 89,
   "metadata": {},
   "outputs": [],
   "source": [
    "number1 = int (input(\"number1 = \"))\n",
    "number2 = 5\n",
    "number3 = 4\n",
    "\n",
    "name1 = \"Ville\"\n",
    "name2 = \"Ville\"\n",
    "name3 = \"Kimmo\""
   ]
  },
  {
   "cell_type": "code",
   "execution_count": 90,
   "metadata": {},
   "outputs": [
    {
     "name": "stdout",
     "output_type": "stream",
     "text": [
      "Number1 is greater than number2\n",
      "Number1 is greater or equal to number2\n",
      "Number1 is not equal to number2\n"
     ]
    }
   ],
   "source": [
    "if (number1 == number2):\n",
    "    print(\"Number1 is equal to  number2\")\n",
    "if (number1 > number2):\n",
    "    print(\"Number1 is greater than number2\")\n",
    "if (number1 >= number2):\n",
    "    print(\"Number1 is greater or equal to number2\")\n",
    "if (number1 != number2):\n",
    "    print(\"Number1 is not equal to number2\")\n",
    "    "
   ]
  },
  {
   "cell_type": "code",
   "execution_count": 91,
   "metadata": {},
   "outputs": [
    {
     "name": "stdout",
     "output_type": "stream",
     "text": [
      "Number one is the highest number\n",
      "number1 is greater than number2\n",
      "number1 is not equal to number2\n"
     ]
    }
   ],
   "source": [
    "if (number1 == number2 == number3):\n",
    "    print(\"All numbers are equals\")\n",
    "if (number1 == number2 or number2 == number3):\n",
    "    print(\"number1 and number2 are equal or number2 and number3 are equal\")   \n",
    "if (number1 > number2 and number1 > number3):\n",
    "    print(\"Number one is the highest number\") \n",
    "if (number1 > number2):\n",
    "    print(\"number1 is greater than number2\")\n",
    "elif (number2 > number3):\n",
    "    print(\"Number2 is greater than number1 and number3\")\n",
    "if (number1 != number2):\n",
    "    print(\"number1 is not equal to number2\")\n",
    "elif (number1 == number3):\n",
    "    print(\"number1 is not equal to number2 but is equal to number3\")\n",
    "    \n"
   ]
  },
  {
   "cell_type": "code",
   "execution_count": 92,
   "metadata": {},
   "outputs": [
    {
     "name": "stdout",
     "output_type": "stream",
     "text": [
      "name1 = name2\n",
      "name1 != name3\n"
     ]
    }
   ],
   "source": [
    "if (name1 == name2):\n",
    "    print(\"name1 = name2\")\n",
    "else:\n",
    "    print(\"name1 != name2\")\n",
    "if (name1 == name3):\n",
    "    print(\"name1 = name3\")\n",
    "else:\n",
    "    print(\"name1 != name3\")"
   ]
  }
 ],
 "metadata": {
  "kernelspec": {
   "display_name": "Python 3",
   "language": "python",
   "name": "python3"
  },
  "language_info": {
   "codemirror_mode": {
    "name": "ipython",
    "version": 3
   },
   "file_extension": ".py",
   "mimetype": "text/x-python",
   "name": "python",
   "nbconvert_exporter": "python",
   "pygments_lexer": "ipython3",
   "version": "3.12.0"
  }
 },
 "nbformat": 4,
 "nbformat_minor": 2
}
