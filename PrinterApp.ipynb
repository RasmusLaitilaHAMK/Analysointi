{
 "cells": [
  {
   "cell_type": "code",
   "execution_count": 1,
   "metadata": {},
   "outputs": [],
   "source": [
    "Creator = \"Rasse\"\n",
    "N1=5\n",
    "N2=10\n",
    "SUM=N1*N2"
   ]
  },
  {
   "cell_type": "code",
   "execution_count": 2,
   "metadata": {},
   "outputs": [
    {
     "name": "stdout",
     "output_type": "stream",
     "text": [
      "Printer App\n",
      "This app is made by  Rasse\n",
      "5\n",
      "10\n",
      "5  *  10  =  50\n"
     ]
    }
   ],
   "source": [
    "print(\"Printer App\")\n",
    "print(\"This app is made by \", Creator)\n",
    "print(N1)\n",
    "print(N2)\n",
    "print(N1, \" * \", N2, \" = \", SUM)\n",
    "    "
   ]
  }
 ],
 "metadata": {
  "kernelspec": {
   "display_name": "Python 3",
   "language": "python",
   "name": "python3"
  },
  "language_info": {
   "codemirror_mode": {
    "name": "ipython",
    "version": 3
   },
   "file_extension": ".py",
   "mimetype": "text/x-python",
   "name": "python",
   "nbconvert_exporter": "python",
   "pygments_lexer": "ipython3",
   "version": "3.12.0"
  }
 },
 "nbformat": 4,
 "nbformat_minor": 2
}
